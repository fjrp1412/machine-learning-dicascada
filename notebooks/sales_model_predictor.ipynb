{
 "cells": [
  {
   "cell_type": "code",
   "execution_count": null,
   "metadata": {},
   "outputs": [],
   "source": [
    "import pandas as pd\n",
    "import numpy as np\n",
    "import psycopg2\n",
    "import os\n",
    "from dotenv import load_dotenv\n",
    "load_dotenv()"
   ]
  },
  {
   "cell_type": "code",
   "execution_count": null,
   "metadata": {},
   "outputs": [],
   "source": [
    "host = os.getenv(\"HOST\")\n",
    "dbname = os.getenv(\"DATABASE_NAME\")\n",
    "user = os.getenv(\"USERNAME\")\n",
    "password = os.getenv(\"DATABASE_PASSWORD\")\n",
    "\n",
    "conn_string = \"host={0} user={1} dbname={2} password={3}\".format(host, user, dbname, password)\n",
    "conn = psycopg2.connect(conn_string)\n",
    "cursor = conn.cursor()"
   ]
  },
  {
   "cell_type": "code",
   "execution_count": null,
   "metadata": {},
   "outputs": [],
   "source": [
    "query = \"SELECT * FROM core_sale;\"\n",
    "df_salesmans = pd.read_sql(query, conn)"
   ]
  },
  {
   "cell_type": "code",
   "execution_count": null,
   "metadata": {},
   "outputs": [],
   "source": [
    "df_sales = df_salesmans.copy()\n"
   ]
  },
  {
   "cell_type": "code",
   "execution_count": null,
   "metadata": {},
   "outputs": [],
   "source": [
    "df_sales_copy = df_sales.copy()"
   ]
  },
  {
   "cell_type": "code",
   "execution_count": null,
   "metadata": {},
   "outputs": [],
   "source": [
    "df_sales_copy[\"year\"] = df_sales_copy.apply(lambda row : row[\"date\"].year, axis=1)\n",
    "df_sales_copy[\"month\"] = df_sales_copy.apply(lambda row : row[\"date\"].month, axis=1)\n",
    "df_sales_copy.drop(columns=[\"date\"], inplace=True)\n",
    "df_sales_copy.drop(columns=[\"description\"], inplace=True)\n",
    "df_sales_copy.drop(columns=[\"status\"], inplace=True)"
   ]
  },
  {
   "cell_type": "code",
   "execution_count": null,
   "metadata": {},
   "outputs": [],
   "source": [
    "df_groupby_sales = df_sales_copy.groupby([\"year\", \"month\"])\n",
    "sales_data = {\n",
    "    'income': df_groupby_sales['income'].sum(),\n",
    "    'count': df_groupby_sales['id'].count()\n",
    "}\n",
    "\n",
    "df_sales_per_months = pd.DataFrame(sales_data)"
   ]
  },
  {
   "cell_type": "code",
   "execution_count": null,
   "metadata": {},
   "outputs": [],
   "source": [
    "df_groupby_sales_year = df_sales_copy.groupby([\"year\"])\n",
    "sales_data = {\n",
    "    'income': df_groupby_sales_year['income'].sum(),\n",
    "    'count': df_groupby_sales_year['id'].count()\n",
    "}\n",
    "\n",
    "df_sales_per_year = pd.DataFrame(sales_data)"
   ]
  },
  {
   "cell_type": "code",
   "execution_count": null,
   "metadata": {},
   "outputs": [],
   "source": [
    "print(df_sales_per_months.head())\n",
    "print(\"\\n\")\n",
    "print(df_sales_per_year.head())"
   ]
  },
  {
   "cell_type": "code",
   "execution_count": null,
   "metadata": {},
   "outputs": [],
   "source": []
  }
 ],
 "metadata": {
  "interpreter": {
   "hash": "646e0e101a87a11eff15d28b3f11c2526e060e9f46f4e892c9ce4c43e903d9a3"
  },
  "kernelspec": {
   "display_name": "Python 3.8.10 ('venv': venv)",
   "language": "python",
   "name": "python3"
  },
  "language_info": {
   "codemirror_mode": {
    "name": "ipython",
    "version": 3
   },
   "file_extension": ".py",
   "mimetype": "text/x-python",
   "name": "python",
   "nbconvert_exporter": "python",
   "pygments_lexer": "ipython3",
   "version": "3.8.10"
  },
  "orig_nbformat": 4
 },
 "nbformat": 4,
 "nbformat_minor": 2
}
