{
 "cells": [
  {
   "cell_type": "code",
   "execution_count": 39,
   "metadata": {},
   "outputs": [
    {
     "data": {
      "text/plain": [
       "True"
      ]
     },
     "execution_count": 39,
     "metadata": {},
     "output_type": "execute_result"
    }
   ],
   "source": [
    "import pandas as pd\n",
    "import numpy as np\n",
    "import psycopg2\n",
    "import os\n",
    "from dotenv import load_dotenv\n",
    "from sklearn.impute import SimpleImputer\n",
    "from sklearn.ensemble import RandomForestRegressor\n",
    "load_dotenv()"
   ]
  },
  {
   "cell_type": "code",
   "execution_count": 40,
   "metadata": {},
   "outputs": [],
   "source": [
    "# Equation for mean average percentage error for test the model performance\n",
    "def mape(y_true, y_pred):\n",
    "    ape = np.abs((y_true - y_pred) / y_true)\n",
    "    return np.mean(ape)\n",
    "\n",
    "def wmape(y_true, y_pred):\n",
    "    return np.sum(np.abs((y_true - y_pred))) / np.sum(np.abs(y_true))"
   ]
  },
  {
   "cell_type": "code",
   "execution_count": 41,
   "metadata": {},
   "outputs": [
    {
     "name": "stderr",
     "output_type": "stream",
     "text": [
      "/home/francisco/workspace/lambda-system/machine-learning-dicascada/venv/lib/python3.8/site-packages/pandas/io/sql.py:761: UserWarning: pandas only support SQLAlchemy connectable(engine/connection) ordatabase string URI or sqlite3 DBAPI2 connectionother DBAPI2 objects are not tested, please consider using SQLAlchemy\n",
      "  warnings.warn(\n"
     ]
    }
   ],
   "source": [
    "# Database connection and query\n",
    "host = os.getenv(\"HOST\")\n",
    "dbname = os.getenv(\"DATABASE_NAME\")\n",
    "user = os.getenv(\"USERNAME\")\n",
    "password = os.getenv(\"DATABASE_PASSWORD\")\n",
    "\n",
    "conn_string = \"host={0} user={1} dbname={2} password={3}\".format(host, user, dbname, password)\n",
    "conn = psycopg2.connect(conn_string)\n",
    "cursor = conn.cursor()\n",
    "\n",
    "query = \"SELECT * FROM core_sale;\"\n",
    "df_sales = pd.read_sql(query, conn)"
   ]
  },
  {
   "cell_type": "code",
   "execution_count": 42,
   "metadata": {},
   "outputs": [],
   "source": [
    "# Copy DF, adding a new column with the date of the sale split in year\n",
    "# month and day, and drop columns will not be used. Also, copy for ML model\n",
    "# and set sales_copy df index for a future for return some results\n",
    "\n",
    "df_sales_copy = df_sales.copy()\n",
    "df_sales_copy[\"year\"] = df_sales_copy.apply(lambda row : row[\"date\"].year, axis=1)\n",
    "df_sales_copy[\"month\"] = df_sales_copy.apply(lambda row : row[\"date\"].month, axis=1)\n",
    "df_sales_copy[\"day\"] = df_sales_copy.apply(lambda row : row[\"date\"].day, axis=1)\n",
    "df_sales_copy.drop(columns=[\"date\"], inplace=True)\n",
    "df_sales_copy.drop(columns=[\"description\"], inplace=True)\n",
    "df_sales_copy.drop(columns=[\"status\"], inplace=True)\n",
    "\n",
    "df_sales_copy.set_index(['year', 'month', 'day'], inplace=True)"
   ]
  },
  {
   "cell_type": "code",
   "execution_count": 43,
   "metadata": {},
   "outputs": [
    {
     "data": {
      "text/html": [
       "<div>\n",
       "<style scoped>\n",
       "    .dataframe tbody tr th:only-of-type {\n",
       "        vertical-align: middle;\n",
       "    }\n",
       "\n",
       "    .dataframe tbody tr th {\n",
       "        vertical-align: top;\n",
       "    }\n",
       "\n",
       "    .dataframe thead th {\n",
       "        text-align: right;\n",
       "    }\n",
       "</style>\n",
       "<table border=\"1\" class=\"dataframe\">\n",
       "  <thead>\n",
       "    <tr style=\"text-align: right;\">\n",
       "      <th></th>\n",
       "      <th>income</th>\n",
       "      <th>count</th>\n",
       "    </tr>\n",
       "    <tr>\n",
       "      <th>year</th>\n",
       "      <th></th>\n",
       "      <th></th>\n",
       "    </tr>\n",
       "  </thead>\n",
       "  <tbody>\n",
       "    <tr>\n",
       "      <th>2018</th>\n",
       "      <td>96783.10</td>\n",
       "      <td>282</td>\n",
       "    </tr>\n",
       "    <tr>\n",
       "      <th>2019</th>\n",
       "      <td>1622842.69</td>\n",
       "      <td>3058</td>\n",
       "    </tr>\n",
       "    <tr>\n",
       "      <th>2020</th>\n",
       "      <td>2691034.50</td>\n",
       "      <td>6727</td>\n",
       "    </tr>\n",
       "    <tr>\n",
       "      <th>2021</th>\n",
       "      <td>2395357.87</td>\n",
       "      <td>10096</td>\n",
       "    </tr>\n",
       "    <tr>\n",
       "      <th>2022</th>\n",
       "      <td>420782.79</td>\n",
       "      <td>1502</td>\n",
       "    </tr>\n",
       "  </tbody>\n",
       "</table>\n",
       "</div>"
      ],
      "text/plain": [
       "          income  count\n",
       "year                   \n",
       "2018    96783.10    282\n",
       "2019  1622842.69   3058\n",
       "2020  2691034.50   6727\n",
       "2021  2395357.87  10096\n",
       "2022   420782.79   1502"
      ]
     },
     "execution_count": 43,
     "metadata": {},
     "output_type": "execute_result"
    }
   ],
   "source": [
    "# grouping sales per month for return stadistics about this.\n",
    "# This data frame will be used to plot the graphs for see the historic of sales per month in every year\n",
    "# This data frame can be use for trimester too\n",
    "\n",
    "df_groupby_sales = df_sales_copy.groupby([\"year\"])\n",
    "sales_data = {\n",
    "    'income': df_groupby_sales['income'].sum(),\n",
    "    'count': df_groupby_sales['id'].count()\n",
    "}\n",
    "\n",
    "df_sales_per_years = pd.DataFrame(sales_data)\n",
    "df_sales_per_years"
   ]
  },
  {
   "cell_type": "code",
   "execution_count": 44,
   "metadata": {},
   "outputs": [
    {
     "data": {
      "text/html": [
       "<div>\n",
       "<style scoped>\n",
       "    .dataframe tbody tr th:only-of-type {\n",
       "        vertical-align: middle;\n",
       "    }\n",
       "\n",
       "    .dataframe tbody tr th {\n",
       "        vertical-align: top;\n",
       "    }\n",
       "\n",
       "    .dataframe thead th {\n",
       "        text-align: right;\n",
       "    }\n",
       "</style>\n",
       "<table border=\"1\" class=\"dataframe\">\n",
       "  <thead>\n",
       "    <tr style=\"text-align: right;\">\n",
       "      <th></th>\n",
       "      <th>year</th>\n",
       "      <th>income</th>\n",
       "      <th>count</th>\n",
       "    </tr>\n",
       "  </thead>\n",
       "  <tbody>\n",
       "    <tr>\n",
       "      <th>0</th>\n",
       "      <td>2018</td>\n",
       "      <td>96783.10</td>\n",
       "      <td>282</td>\n",
       "    </tr>\n",
       "    <tr>\n",
       "      <th>1</th>\n",
       "      <td>2019</td>\n",
       "      <td>1622842.69</td>\n",
       "      <td>3058</td>\n",
       "    </tr>\n",
       "    <tr>\n",
       "      <th>2</th>\n",
       "      <td>2020</td>\n",
       "      <td>2691034.50</td>\n",
       "      <td>6727</td>\n",
       "    </tr>\n",
       "  </tbody>\n",
       "</table>\n",
       "</div>"
      ],
      "text/plain": [
       "   year      income  count\n",
       "0  2018    96783.10    282\n",
       "1  2019  1622842.69   3058\n",
       "2  2020  2691034.50   6727"
      ]
     },
     "execution_count": 44,
     "metadata": {},
     "output_type": "execute_result"
    }
   ],
   "source": [
    "# Copy df for ML model. The other DF is for chart.\n",
    "#Then, it just set split point, reset index and\n",
    "# split the dataframe in two parts, one for train and one for test\n",
    "\n",
    "df_sales_machine_learning = df_sales_per_years.copy()\n",
    "split_point = 2021\n",
    "df_sales_machine_learning.reset_index(inplace=True)\n",
    "\n",
    "df_sales_machine_learning\n",
    "data_train = df_sales_machine_learning.loc[df_sales_machine_learning['year'] < split_point].copy()\n",
    "data_valid = df_sales_machine_learning.loc[df_sales_machine_learning['year'] >= split_point].copy()\n",
    "\n",
    "# Example for data train DF\n",
    "data_train"
   ]
  },
  {
   "cell_type": "code",
   "execution_count": 45,
   "metadata": {},
   "outputs": [
    {
     "data": {
      "text/html": [
       "<div>\n",
       "<style scoped>\n",
       "    .dataframe tbody tr th:only-of-type {\n",
       "        vertical-align: middle;\n",
       "    }\n",
       "\n",
       "    .dataframe tbody tr th {\n",
       "        vertical-align: top;\n",
       "    }\n",
       "\n",
       "    .dataframe thead th {\n",
       "        text-align: right;\n",
       "    }\n",
       "</style>\n",
       "<table border=\"1\" class=\"dataframe\">\n",
       "  <thead>\n",
       "    <tr style=\"text-align: right;\">\n",
       "      <th></th>\n",
       "      <th>year</th>\n",
       "      <th>income</th>\n",
       "      <th>count</th>\n",
       "      <th>sales_next_year</th>\n",
       "      <th>sales_next_year_count</th>\n",
       "    </tr>\n",
       "  </thead>\n",
       "  <tbody>\n",
       "    <tr>\n",
       "      <th>0</th>\n",
       "      <td>2018</td>\n",
       "      <td>96783.10</td>\n",
       "      <td>282</td>\n",
       "      <td>1622842.69</td>\n",
       "      <td>3058.0</td>\n",
       "    </tr>\n",
       "    <tr>\n",
       "      <th>1</th>\n",
       "      <td>2019</td>\n",
       "      <td>1622842.69</td>\n",
       "      <td>3058</td>\n",
       "      <td>2691034.50</td>\n",
       "      <td>6727.0</td>\n",
       "    </tr>\n",
       "    <tr>\n",
       "      <th>2</th>\n",
       "      <td>2020</td>\n",
       "      <td>2691034.50</td>\n",
       "      <td>6727</td>\n",
       "      <td>NaN</td>\n",
       "      <td>NaN</td>\n",
       "    </tr>\n",
       "  </tbody>\n",
       "</table>\n",
       "</div>"
      ],
      "text/plain": [
       "   year      income  count  sales_next_year  sales_next_year_count\n",
       "0  2018    96783.10    282       1622842.69                 3058.0\n",
       "1  2019  1622842.69   3058       2691034.50                 6727.0\n",
       "2  2020  2691034.50   6727              NaN                    NaN"
      ]
     },
     "execution_count": 45,
     "metadata": {},
     "output_type": "execute_result"
    }
   ],
   "source": [
    "# Add the columns which gonna be predicted.\n",
    "# It just set the sales next month using \n",
    "# the income of the next sales in the DF\n",
    "\n",
    "data_train[\"sales_next_year\"] = data_train[\"income\"].shift(-1)\n",
    "data_train[\"sales_next_year_count\"] = data_train[\"count\"].shift(-1)\n",
    "data_valid[\"sales_next_year\"] = data_valid[\"income\"].shift(-1)\n",
    "data_valid[\"sales_next_year_count\"] = data_valid[\"count\"].shift(-1)\n",
    "\n",
    "data_train"
   ]
  },
  {
   "cell_type": "code",
   "execution_count": 46,
   "metadata": {},
   "outputs": [
    {
     "data": {
      "text/html": [
       "<div>\n",
       "<style scoped>\n",
       "    .dataframe tbody tr th:only-of-type {\n",
       "        vertical-align: middle;\n",
       "    }\n",
       "\n",
       "    .dataframe tbody tr th {\n",
       "        vertical-align: top;\n",
       "    }\n",
       "\n",
       "    .dataframe thead th {\n",
       "        text-align: right;\n",
       "    }\n",
       "</style>\n",
       "<table border=\"1\" class=\"dataframe\">\n",
       "  <thead>\n",
       "    <tr style=\"text-align: right;\">\n",
       "      <th></th>\n",
       "      <th>year</th>\n",
       "      <th>income</th>\n",
       "      <th>count</th>\n",
       "      <th>sales_next_year</th>\n",
       "      <th>sales_next_year_count</th>\n",
       "      <th>diff_sales_next_year</th>\n",
       "      <th>diff_sales_next_year_count</th>\n",
       "    </tr>\n",
       "  </thead>\n",
       "  <tbody>\n",
       "    <tr>\n",
       "      <th>0</th>\n",
       "      <td>2018</td>\n",
       "      <td>96783.10</td>\n",
       "      <td>282</td>\n",
       "      <td>1622842.69</td>\n",
       "      <td>3058.0</td>\n",
       "      <td>NaN</td>\n",
       "      <td>NaN</td>\n",
       "    </tr>\n",
       "    <tr>\n",
       "      <th>1</th>\n",
       "      <td>2019</td>\n",
       "      <td>1622842.69</td>\n",
       "      <td>3058</td>\n",
       "      <td>2691034.50</td>\n",
       "      <td>6727.0</td>\n",
       "      <td>1526059.59</td>\n",
       "      <td>2776.0</td>\n",
       "    </tr>\n",
       "  </tbody>\n",
       "</table>\n",
       "</div>"
      ],
      "text/plain": [
       "   year      income  count  sales_next_year  sales_next_year_count  \\\n",
       "0  2018    96783.10    282       1622842.69                 3058.0   \n",
       "1  2019  1622842.69   3058       2691034.50                 6727.0   \n",
       "\n",
       "   diff_sales_next_year  diff_sales_next_year_count  \n",
       "0                   NaN                         NaN  \n",
       "1            1526059.59                      2776.0  "
      ]
     },
     "execution_count": 46,
     "metadata": {},
     "output_type": "execute_result"
    }
   ],
   "source": [
    "# Set diff between sales and sales next day\n",
    "\n",
    "data_train.dropna(inplace=True)\n",
    "data_valid[\"diff_sales_next_year\"] = data_valid[\"income\"].diff(1)\n",
    "data_valid[\"diff_sales_next_year_count\"] = data_valid[\"count\"].diff(1)\n",
    "data_train[\"diff_sales_next_year\"] = data_train[\"income\"].diff(1)\n",
    "data_train[\"diff_sales_next_year_count\"] = data_train[\"count\"].diff(1)\n",
    "data_train"
   ]
  },
  {
   "cell_type": "code",
   "execution_count": 47,
   "metadata": {},
   "outputs": [
    {
     "name": "stdout",
     "output_type": "stream",
     "text": [
      "0.6686533342098231\n"
     ]
    },
    {
     "data": {
      "text/plain": [
       "0.6013734943622724"
      ]
     },
     "execution_count": 47,
     "metadata": {},
     "output_type": "execute_result"
    }
   ],
   "source": [
    "# Baseline for indicators for precission of the model\n",
    "\n",
    "y_pred = data_train[\"income\"]\n",
    "y_true = data_train['sales_next_year']\n",
    "\n",
    "print(mape(y_true, y_pred))\n",
    "wmape(y_true, y_pred)"
   ]
  },
  {
   "cell_type": "code",
   "execution_count": 48,
   "metadata": {},
   "outputs": [
    {
     "data": {
      "text/plain": [
       "RandomForestRegressor(n_jobs=6, random_state=0)"
      ]
     },
     "execution_count": 48,
     "metadata": {},
     "output_type": "execute_result"
    }
   ],
   "source": [
    "# Set features for ML model, which columns will be use for predict\n",
    "# Imputer is for transform some data\n",
    "# Xtr and Ytr are the X and Y values for train the model\n",
    "# Then the model is just a RandomForestRegressor and with fit it get trained\n",
    "\n",
    "features = [\"income\", \"count\"]\n",
    "imputer = SimpleImputer()\n",
    "Xtr_per_year = imputer.fit_transform(data_train[features])\n",
    "ytr_per_year = data_train['sales_next_year']\n",
    "\n",
    "\n",
    "model = RandomForestRegressor(n_estimators=100, random_state=0, n_jobs=6)\n",
    "model.fit(Xtr_per_year, ytr_per_year)\n"
   ]
  },
  {
   "cell_type": "code",
   "execution_count": 49,
   "metadata": {},
   "outputs": [
    {
     "data": {
      "text/html": [
       "<div>\n",
       "<style scoped>\n",
       "    .dataframe tbody tr th:only-of-type {\n",
       "        vertical-align: middle;\n",
       "    }\n",
       "\n",
       "    .dataframe tbody tr th {\n",
       "        vertical-align: top;\n",
       "    }\n",
       "\n",
       "    .dataframe thead th {\n",
       "        text-align: right;\n",
       "    }\n",
       "</style>\n",
       "<table border=\"1\" class=\"dataframe\">\n",
       "  <thead>\n",
       "    <tr style=\"text-align: right;\">\n",
       "      <th></th>\n",
       "      <th>year</th>\n",
       "      <th>income</th>\n",
       "      <th>count</th>\n",
       "      <th>sales_next_year</th>\n",
       "      <th>sales_next_year_count</th>\n",
       "      <th>diff_sales_next_year</th>\n",
       "      <th>diff_sales_next_year_count</th>\n",
       "    </tr>\n",
       "  </thead>\n",
       "  <tbody>\n",
       "    <tr>\n",
       "      <th>3</th>\n",
       "      <td>2021</td>\n",
       "      <td>2395357.87</td>\n",
       "      <td>10096</td>\n",
       "      <td>420782.79</td>\n",
       "      <td>1502.0</td>\n",
       "      <td>NaN</td>\n",
       "      <td>NaN</td>\n",
       "    </tr>\n",
       "    <tr>\n",
       "      <th>4</th>\n",
       "      <td>2022</td>\n",
       "      <td>420782.79</td>\n",
       "      <td>1502</td>\n",
       "      <td>NaN</td>\n",
       "      <td>NaN</td>\n",
       "      <td>-1974575.08</td>\n",
       "      <td>-8594.0</td>\n",
       "    </tr>\n",
       "  </tbody>\n",
       "</table>\n",
       "</div>"
      ],
      "text/plain": [
       "   year      income  count  sales_next_year  sales_next_year_count  \\\n",
       "3  2021  2395357.87  10096        420782.79                 1502.0   \n",
       "4  2022   420782.79   1502              NaN                    NaN   \n",
       "\n",
       "   diff_sales_next_year  diff_sales_next_year_count  \n",
       "3                   NaN                         NaN  \n",
       "4           -1974575.08                     -8594.0  "
      ]
     },
     "execution_count": 49,
     "metadata": {},
     "output_type": "execute_result"
    }
   ],
   "source": [
    "# Predicting sales for everyh day with the model\n",
    "# This model just predict the income of the next month, not how many sales\n",
    "\n",
    "# The final data frame is just for seing true values and predicted values\n",
    "\n",
    "Xval_per_year = imputer.fit_transform(data_valid[features])\n",
    "yval_per_year = data_valid['sales_next_year']\n",
    "\n",
    "prediction_per_year = model.predict(Xval_per_year)\n",
    "\n",
    "df_forest_per_year = pd.DataFrame({\"month\": data_valid[\"year\"] ,\"predicted\": prediction_per_year, \"true\": yval_per_year, \"diff\": data_valid[\"diff_sales_next_year\"]})\n",
    "df_forest_per_year\n",
    "prediction_per_year\n",
    "data_valid"
   ]
  },
  {
   "cell_type": "code",
   "execution_count": 50,
   "metadata": {},
   "outputs": [
    {
     "name": "stdout",
     "output_type": "stream",
     "text": [
      "4.836817379817267\n",
      "4.836817379817267\n"
     ]
    }
   ],
   "source": [
    "print(mape(yval_per_year, prediction_per_year))\n",
    "print(wmape(yval_per_year, prediction_per_year))"
   ]
  },
  {
   "cell_type": "code",
   "execution_count": null,
   "metadata": {},
   "outputs": [],
   "source": []
  }
 ],
 "metadata": {
  "interpreter": {
   "hash": "646e0e101a87a11eff15d28b3f11c2526e060e9f46f4e892c9ce4c43e903d9a3"
  },
  "kernelspec": {
   "display_name": "Python 3.8.10 ('venv': venv)",
   "language": "python",
   "name": "python3"
  },
  "language_info": {
   "codemirror_mode": {
    "name": "ipython",
    "version": 3
   },
   "file_extension": ".py",
   "mimetype": "text/x-python",
   "name": "python",
   "nbconvert_exporter": "python",
   "pygments_lexer": "ipython3",
   "version": "3.8.10"
  },
  "orig_nbformat": 4
 },
 "nbformat": 4,
 "nbformat_minor": 2
}
